{
  "cells": [
    {
      "cell_type": "code",
      "execution_count": null,
      "metadata": {
        "id": "GcCAV0604mXg"
      },
      "outputs": [],
      "source": [
        "! pip install -q kaggle"
      ]
    },
    {
      "cell_type": "code",
      "execution_count": null,
      "metadata": {
        "id": "sHaDGI6F5LRM"
      },
      "outputs": [],
      "source": [
        "from google.colab import drive\n",
        "drive.mount('/content/drive')"
      ]
    },
    {
      "cell_type": "code",
      "execution_count": null,
      "metadata": {
        "id": "mugZK7zD5M2N"
      },
      "outputs": [],
      "source": [
        "! mkdir ~/.kaggle/"
      ]
    },
    {
      "cell_type": "code",
      "execution_count": null,
      "metadata": {
        "id": "7IQPEndR5Qr1"
      },
      "outputs": [],
      "source": [
        "! cp '/content/drive/MyDrive/Kaggle/kaggle.json' ~/.kaggle/"
      ]
    },
    {
      "cell_type": "code",
      "execution_count": null,
      "metadata": {
        "id": "PUOk1sxb5mOg"
      },
      "outputs": [],
      "source": [
        "! chmod 600 ~/.kaggle/kaggle.json"
      ]
    },
    {
      "cell_type": "code",
      "execution_count": null,
      "metadata": {
        "id": "qWuKWkFN5pTd"
      },
      "outputs": [],
      "source": [
        "! kaggle datasets list"
      ]
    },
    {
      "cell_type": "code",
      "execution_count": null,
      "metadata": {
        "id": "ldzQVCA65rs0"
      },
      "outputs": [],
      "source": [
        "! kaggle competitions download -c severstal-steel-defect-detection"
      ]
    },
    {
      "cell_type": "code",
      "execution_count": null,
      "metadata": {
        "id": "zF0q2vaU7GWT"
      },
      "outputs": [],
      "source": [
        "! unzip '/content/severstal-steel-defect-detection.zip' -d steel_data"
      ]
    },
    {
      "cell_type": "code",
      "execution_count": null,
      "metadata": {
        "id": "IYoLyTAlIty1"
      },
      "outputs": [],
      "source": [
        "import pandas as pd\n",
        "import numpy as np\n",
        "import matplotlib.pyplot as plt\n",
        "import seaborn as sns\n",
        "import warnings\n",
        "import matplotlib.pyplot as plt\n",
        "import keras\n",
        "from sklearn.model_selection import train_test_split\n",
        "from tqdm import tqdm\n",
        "import cv2\n",
        "from sklearn.preprocessing import OneHotEncoder,LabelEncoder\n",
        "from keras.models import Sequential\n",
        "import tensorflow as tf\n",
        "from keras.layers import Dense,Conv2D,Flatten,MaxPooling2D,Dropout"
      ]
    },
    {
      "cell_type": "code",
      "execution_count": null,
      "metadata": {
        "id": "UZZbwIKs9g7U"
      },
      "outputs": [],
      "source": [
        "train_df= pd.read_csv('/content/drive/MyDrive/Kaggle/steel_data/train.csv')"
      ]
    },
    {
      "cell_type": "code",
      "execution_count": null,
      "metadata": {
        "id": "suLUlV-8CTM3",
        "colab": {
          "base_uri": "https://localhost:8080/"
        },
        "outputId": "4bd85d19-2e88-4e4e-af9d-0aca3cfdd7a0"
      },
      "outputs": [
        {
          "output_type": "execute_result",
          "data": {
            "text/plain": [
              "3    5150\n",
              "1     897\n",
              "4     801\n",
              "2     247\n",
              "Name: ClassId, dtype: int64"
            ]
          },
          "metadata": {},
          "execution_count": 6
        }
      ],
      "source": [
        "train_df[\"ClassId\"].value_counts()"
      ]
    },
    {
      "cell_type": "code",
      "execution_count": null,
      "metadata": {
        "id": "AJAZWjDP_3qA",
        "colab": {
          "base_uri": "https://localhost:8080/"
        },
        "outputId": "ac0632ca-f77b-41b7-ad91-4028c250ae0b"
      },
      "outputs": [
        {
          "output_type": "execute_result",
          "data": {
            "text/plain": [
              "(7095, 3)"
            ]
          },
          "metadata": {},
          "execution_count": 7
        }
      ],
      "source": [
        "train_df.shape\n"
      ]
    },
    {
      "cell_type": "code",
      "execution_count": null,
      "metadata": {
        "id": "fVMvDzXbC4TI",
        "colab": {
          "base_uri": "https://localhost:8080/",
          "height": 423
        },
        "outputId": "ab6b0e89-2c9d-48c7-fcb0-02f3dd101f7f"
      },
      "outputs": [
        {
          "output_type": "execute_result",
          "data": {
            "text/plain": [
              "            ImageId  ClassId  \\\n",
              "0     0002cc93b.jpg        1   \n",
              "1     000a4bcdd.jpg        1   \n",
              "2     002fc4e19.jpg        1   \n",
              "3     008ef3d74.jpg        1   \n",
              "4     00ac8372f.jpg        1   \n",
              "...             ...      ...   \n",
              "7090  fda1a539d.jpg        4   \n",
              "7091  fdb7c0397.jpg        4   \n",
              "7092  feec56162.jpg        4   \n",
              "7093  ff6bfada2.jpg        4   \n",
              "7094  ff9d46e95.jpg        4   \n",
              "\n",
              "                                          EncodedPixels  \n",
              "0     29102 12 29346 24 29602 24 29858 24 30114 24 3...  \n",
              "1     37607 3 37858 8 38108 14 38359 20 38610 25 388...  \n",
              "2     146021 3 146275 10 146529 40 146783 46 147038 ...  \n",
              "3     356336 4 356587 11 356838 18 357089 25 357340 ...  \n",
              "4     101742 3 101998 12 102253 19 102301 22 102509 ...  \n",
              "...                                                 ...  \n",
              "7090  128621 3 128876 8 129131 11 129386 13 129641 1...  \n",
              "7091  155020 6 155268 16 155516 27 155764 37 156012 ...  \n",
              "7092  99346 1 99602 1 99858 1 100113 2 100369 3 1006...  \n",
              "7093  90877 2 91131 4 91385 6 91638 9 91892 12 92146...  \n",
              "7094  326401 4 326658 9 326915 12 327172 13 327429 1...  \n",
              "\n",
              "[7095 rows x 3 columns]"
            ],
            "text/html": [
              "\n",
              "  <div id=\"df-27a07490-aef8-4b2e-ba0c-952666b11494\">\n",
              "    <div class=\"colab-df-container\">\n",
              "      <div>\n",
              "<style scoped>\n",
              "    .dataframe tbody tr th:only-of-type {\n",
              "        vertical-align: middle;\n",
              "    }\n",
              "\n",
              "    .dataframe tbody tr th {\n",
              "        vertical-align: top;\n",
              "    }\n",
              "\n",
              "    .dataframe thead th {\n",
              "        text-align: right;\n",
              "    }\n",
              "</style>\n",
              "<table border=\"1\" class=\"dataframe\">\n",
              "  <thead>\n",
              "    <tr style=\"text-align: right;\">\n",
              "      <th></th>\n",
              "      <th>ImageId</th>\n",
              "      <th>ClassId</th>\n",
              "      <th>EncodedPixels</th>\n",
              "    </tr>\n",
              "  </thead>\n",
              "  <tbody>\n",
              "    <tr>\n",
              "      <th>0</th>\n",
              "      <td>0002cc93b.jpg</td>\n",
              "      <td>1</td>\n",
              "      <td>29102 12 29346 24 29602 24 29858 24 30114 24 3...</td>\n",
              "    </tr>\n",
              "    <tr>\n",
              "      <th>1</th>\n",
              "      <td>000a4bcdd.jpg</td>\n",
              "      <td>1</td>\n",
              "      <td>37607 3 37858 8 38108 14 38359 20 38610 25 388...</td>\n",
              "    </tr>\n",
              "    <tr>\n",
              "      <th>2</th>\n",
              "      <td>002fc4e19.jpg</td>\n",
              "      <td>1</td>\n",
              "      <td>146021 3 146275 10 146529 40 146783 46 147038 ...</td>\n",
              "    </tr>\n",
              "    <tr>\n",
              "      <th>3</th>\n",
              "      <td>008ef3d74.jpg</td>\n",
              "      <td>1</td>\n",
              "      <td>356336 4 356587 11 356838 18 357089 25 357340 ...</td>\n",
              "    </tr>\n",
              "    <tr>\n",
              "      <th>4</th>\n",
              "      <td>00ac8372f.jpg</td>\n",
              "      <td>1</td>\n",
              "      <td>101742 3 101998 12 102253 19 102301 22 102509 ...</td>\n",
              "    </tr>\n",
              "    <tr>\n",
              "      <th>...</th>\n",
              "      <td>...</td>\n",
              "      <td>...</td>\n",
              "      <td>...</td>\n",
              "    </tr>\n",
              "    <tr>\n",
              "      <th>7090</th>\n",
              "      <td>fda1a539d.jpg</td>\n",
              "      <td>4</td>\n",
              "      <td>128621 3 128876 8 129131 11 129386 13 129641 1...</td>\n",
              "    </tr>\n",
              "    <tr>\n",
              "      <th>7091</th>\n",
              "      <td>fdb7c0397.jpg</td>\n",
              "      <td>4</td>\n",
              "      <td>155020 6 155268 16 155516 27 155764 37 156012 ...</td>\n",
              "    </tr>\n",
              "    <tr>\n",
              "      <th>7092</th>\n",
              "      <td>feec56162.jpg</td>\n",
              "      <td>4</td>\n",
              "      <td>99346 1 99602 1 99858 1 100113 2 100369 3 1006...</td>\n",
              "    </tr>\n",
              "    <tr>\n",
              "      <th>7093</th>\n",
              "      <td>ff6bfada2.jpg</td>\n",
              "      <td>4</td>\n",
              "      <td>90877 2 91131 4 91385 6 91638 9 91892 12 92146...</td>\n",
              "    </tr>\n",
              "    <tr>\n",
              "      <th>7094</th>\n",
              "      <td>ff9d46e95.jpg</td>\n",
              "      <td>4</td>\n",
              "      <td>326401 4 326658 9 326915 12 327172 13 327429 1...</td>\n",
              "    </tr>\n",
              "  </tbody>\n",
              "</table>\n",
              "<p>7095 rows × 3 columns</p>\n",
              "</div>\n",
              "      <button class=\"colab-df-convert\" onclick=\"convertToInteractive('df-27a07490-aef8-4b2e-ba0c-952666b11494')\"\n",
              "              title=\"Convert this dataframe to an interactive table.\"\n",
              "              style=\"display:none;\">\n",
              "        \n",
              "  <svg xmlns=\"http://www.w3.org/2000/svg\" height=\"24px\"viewBox=\"0 0 24 24\"\n",
              "       width=\"24px\">\n",
              "    <path d=\"M0 0h24v24H0V0z\" fill=\"none\"/>\n",
              "    <path d=\"M18.56 5.44l.94 2.06.94-2.06 2.06-.94-2.06-.94-.94-2.06-.94 2.06-2.06.94zm-11 1L8.5 8.5l.94-2.06 2.06-.94-2.06-.94L8.5 2.5l-.94 2.06-2.06.94zm10 10l.94 2.06.94-2.06 2.06-.94-2.06-.94-.94-2.06-.94 2.06-2.06.94z\"/><path d=\"M17.41 7.96l-1.37-1.37c-.4-.4-.92-.59-1.43-.59-.52 0-1.04.2-1.43.59L10.3 9.45l-7.72 7.72c-.78.78-.78 2.05 0 2.83L4 21.41c.39.39.9.59 1.41.59.51 0 1.02-.2 1.41-.59l7.78-7.78 2.81-2.81c.8-.78.8-2.07 0-2.86zM5.41 20L4 18.59l7.72-7.72 1.47 1.35L5.41 20z\"/>\n",
              "  </svg>\n",
              "      </button>\n",
              "      \n",
              "  <style>\n",
              "    .colab-df-container {\n",
              "      display:flex;\n",
              "      flex-wrap:wrap;\n",
              "      gap: 12px;\n",
              "    }\n",
              "\n",
              "    .colab-df-convert {\n",
              "      background-color: #E8F0FE;\n",
              "      border: none;\n",
              "      border-radius: 50%;\n",
              "      cursor: pointer;\n",
              "      display: none;\n",
              "      fill: #1967D2;\n",
              "      height: 32px;\n",
              "      padding: 0 0 0 0;\n",
              "      width: 32px;\n",
              "    }\n",
              "\n",
              "    .colab-df-convert:hover {\n",
              "      background-color: #E2EBFA;\n",
              "      box-shadow: 0px 1px 2px rgba(60, 64, 67, 0.3), 0px 1px 3px 1px rgba(60, 64, 67, 0.15);\n",
              "      fill: #174EA6;\n",
              "    }\n",
              "\n",
              "    [theme=dark] .colab-df-convert {\n",
              "      background-color: #3B4455;\n",
              "      fill: #D2E3FC;\n",
              "    }\n",
              "\n",
              "    [theme=dark] .colab-df-convert:hover {\n",
              "      background-color: #434B5C;\n",
              "      box-shadow: 0px 1px 3px 1px rgba(0, 0, 0, 0.15);\n",
              "      filter: drop-shadow(0px 1px 2px rgba(0, 0, 0, 0.3));\n",
              "      fill: #FFFFFF;\n",
              "    }\n",
              "  </style>\n",
              "\n",
              "      <script>\n",
              "        const buttonEl =\n",
              "          document.querySelector('#df-27a07490-aef8-4b2e-ba0c-952666b11494 button.colab-df-convert');\n",
              "        buttonEl.style.display =\n",
              "          google.colab.kernel.accessAllowed ? 'block' : 'none';\n",
              "\n",
              "        async function convertToInteractive(key) {\n",
              "          const element = document.querySelector('#df-27a07490-aef8-4b2e-ba0c-952666b11494');\n",
              "          const dataTable =\n",
              "            await google.colab.kernel.invokeFunction('convertToInteractive',\n",
              "                                                     [key], {});\n",
              "          if (!dataTable) return;\n",
              "\n",
              "          const docLinkHtml = 'Like what you see? Visit the ' +\n",
              "            '<a target=\"_blank\" href=https://colab.research.google.com/notebooks/data_table.ipynb>data table notebook</a>'\n",
              "            + ' to learn more about interactive tables.';\n",
              "          element.innerHTML = '';\n",
              "          dataTable['output_type'] = 'display_data';\n",
              "          await google.colab.output.renderOutput(dataTable, element);\n",
              "          const docLink = document.createElement('div');\n",
              "          docLink.innerHTML = docLinkHtml;\n",
              "          element.appendChild(docLink);\n",
              "        }\n",
              "      </script>\n",
              "    </div>\n",
              "  </div>\n",
              "  "
            ]
          },
          "metadata": {},
          "execution_count": 8
        }
      ],
      "source": [
        "train_df0 = train_df[train_df['ClassId'] == 1].reset_index(drop=True)\n",
        "train_df1 = train_df[train_df['ClassId'] == 2].reset_index(drop=True)\n",
        "train_df2 = train_df[train_df['ClassId'] == 3].reset_index(drop=True)\n",
        "train_df3 = train_df[train_df['ClassId'] == 4].reset_index(drop=True)\n",
        "train_df = pd.concat([train_df0, train_df1, train_df2, train_df3], ignore_index=True)\n",
        "train_df"
      ]
    },
    {
      "cell_type": "code",
      "execution_count": null,
      "metadata": {
        "id": "Y7JMx9p56n8q"
      },
      "outputs": [],
      "source": [
        "train_images = '../content/drive/MyDrive/Kaggle/steel_data/train_images'\n",
        "test_images = '../content/drive/MyDrive/Kaggle/steel_data/test_images'\n"
      ]
    },
    {
      "cell_type": "code",
      "execution_count": null,
      "metadata": {
        "id": "FrcO_wRlb_oB",
        "colab": {
          "base_uri": "https://localhost:8080/",
          "height": 224
        },
        "outputId": "9ce1a7b5-d8b8-4041-ab0d-2d088bcc98d4"
      },
      "outputs": [
        {
          "output_type": "stream",
          "name": "stdout",
          "text": [
            "(5506, 3)\n"
          ]
        },
        {
          "output_type": "execute_result",
          "data": {
            "text/plain": [
              "         ImageId EncodedPixels  ClassId\n",
              "0  0000f269f.jpg      1 409600        0\n",
              "1  000ccc2ac.jpg      1 409600        0\n",
              "2  002451917.jpg      1 409600        0\n",
              "3  003c5da97.jpg      1 409600        0\n",
              "4  0042e163f.jpg      1 409600        0"
            ],
            "text/html": [
              "\n",
              "  <div id=\"df-31dad66c-c295-45e0-a239-35514099e259\">\n",
              "    <div class=\"colab-df-container\">\n",
              "      <div>\n",
              "<style scoped>\n",
              "    .dataframe tbody tr th:only-of-type {\n",
              "        vertical-align: middle;\n",
              "    }\n",
              "\n",
              "    .dataframe tbody tr th {\n",
              "        vertical-align: top;\n",
              "    }\n",
              "\n",
              "    .dataframe thead th {\n",
              "        text-align: right;\n",
              "    }\n",
              "</style>\n",
              "<table border=\"1\" class=\"dataframe\">\n",
              "  <thead>\n",
              "    <tr style=\"text-align: right;\">\n",
              "      <th></th>\n",
              "      <th>ImageId</th>\n",
              "      <th>EncodedPixels</th>\n",
              "      <th>ClassId</th>\n",
              "    </tr>\n",
              "  </thead>\n",
              "  <tbody>\n",
              "    <tr>\n",
              "      <th>0</th>\n",
              "      <td>0000f269f.jpg</td>\n",
              "      <td>1 409600</td>\n",
              "      <td>0</td>\n",
              "    </tr>\n",
              "    <tr>\n",
              "      <th>1</th>\n",
              "      <td>000ccc2ac.jpg</td>\n",
              "      <td>1 409600</td>\n",
              "      <td>0</td>\n",
              "    </tr>\n",
              "    <tr>\n",
              "      <th>2</th>\n",
              "      <td>002451917.jpg</td>\n",
              "      <td>1 409600</td>\n",
              "      <td>0</td>\n",
              "    </tr>\n",
              "    <tr>\n",
              "      <th>3</th>\n",
              "      <td>003c5da97.jpg</td>\n",
              "      <td>1 409600</td>\n",
              "      <td>0</td>\n",
              "    </tr>\n",
              "    <tr>\n",
              "      <th>4</th>\n",
              "      <td>0042e163f.jpg</td>\n",
              "      <td>1 409600</td>\n",
              "      <td>0</td>\n",
              "    </tr>\n",
              "  </tbody>\n",
              "</table>\n",
              "</div>\n",
              "      <button class=\"colab-df-convert\" onclick=\"convertToInteractive('df-31dad66c-c295-45e0-a239-35514099e259')\"\n",
              "              title=\"Convert this dataframe to an interactive table.\"\n",
              "              style=\"display:none;\">\n",
              "        \n",
              "  <svg xmlns=\"http://www.w3.org/2000/svg\" height=\"24px\"viewBox=\"0 0 24 24\"\n",
              "       width=\"24px\">\n",
              "    <path d=\"M0 0h24v24H0V0z\" fill=\"none\"/>\n",
              "    <path d=\"M18.56 5.44l.94 2.06.94-2.06 2.06-.94-2.06-.94-.94-2.06-.94 2.06-2.06.94zm-11 1L8.5 8.5l.94-2.06 2.06-.94-2.06-.94L8.5 2.5l-.94 2.06-2.06.94zm10 10l.94 2.06.94-2.06 2.06-.94-2.06-.94-.94-2.06-.94 2.06-2.06.94z\"/><path d=\"M17.41 7.96l-1.37-1.37c-.4-.4-.92-.59-1.43-.59-.52 0-1.04.2-1.43.59L10.3 9.45l-7.72 7.72c-.78.78-.78 2.05 0 2.83L4 21.41c.39.39.9.59 1.41.59.51 0 1.02-.2 1.41-.59l7.78-7.78 2.81-2.81c.8-.78.8-2.07 0-2.86zM5.41 20L4 18.59l7.72-7.72 1.47 1.35L5.41 20z\"/>\n",
              "  </svg>\n",
              "      </button>\n",
              "      \n",
              "  <style>\n",
              "    .colab-df-container {\n",
              "      display:flex;\n",
              "      flex-wrap:wrap;\n",
              "      gap: 12px;\n",
              "    }\n",
              "\n",
              "    .colab-df-convert {\n",
              "      background-color: #E8F0FE;\n",
              "      border: none;\n",
              "      border-radius: 50%;\n",
              "      cursor: pointer;\n",
              "      display: none;\n",
              "      fill: #1967D2;\n",
              "      height: 32px;\n",
              "      padding: 0 0 0 0;\n",
              "      width: 32px;\n",
              "    }\n",
              "\n",
              "    .colab-df-convert:hover {\n",
              "      background-color: #E2EBFA;\n",
              "      box-shadow: 0px 1px 2px rgba(60, 64, 67, 0.3), 0px 1px 3px 1px rgba(60, 64, 67, 0.15);\n",
              "      fill: #174EA6;\n",
              "    }\n",
              "\n",
              "    [theme=dark] .colab-df-convert {\n",
              "      background-color: #3B4455;\n",
              "      fill: #D2E3FC;\n",
              "    }\n",
              "\n",
              "    [theme=dark] .colab-df-convert:hover {\n",
              "      background-color: #434B5C;\n",
              "      box-shadow: 0px 1px 3px 1px rgba(0, 0, 0, 0.15);\n",
              "      filter: drop-shadow(0px 1px 2px rgba(0, 0, 0, 0.3));\n",
              "      fill: #FFFFFF;\n",
              "    }\n",
              "  </style>\n",
              "\n",
              "      <script>\n",
              "        const buttonEl =\n",
              "          document.querySelector('#df-31dad66c-c295-45e0-a239-35514099e259 button.colab-df-convert');\n",
              "        buttonEl.style.display =\n",
              "          google.colab.kernel.accessAllowed ? 'block' : 'none';\n",
              "\n",
              "        async function convertToInteractive(key) {\n",
              "          const element = document.querySelector('#df-31dad66c-c295-45e0-a239-35514099e259');\n",
              "          const dataTable =\n",
              "            await google.colab.kernel.invokeFunction('convertToInteractive',\n",
              "                                                     [key], {});\n",
              "          if (!dataTable) return;\n",
              "\n",
              "          const docLinkHtml = 'Like what you see? Visit the ' +\n",
              "            '<a target=\"_blank\" href=https://colab.research.google.com/notebooks/data_table.ipynb>data table notebook</a>'\n",
              "            + ' to learn more about interactive tables.';\n",
              "          element.innerHTML = '';\n",
              "          dataTable['output_type'] = 'display_data';\n",
              "          await google.colab.output.renderOutput(dataTable, element);\n",
              "          const docLink = document.createElement('div');\n",
              "          docLink.innerHTML = docLinkHtml;\n",
              "          element.appendChild(docLink);\n",
              "        }\n",
              "      </script>\n",
              "    </div>\n",
              "  </div>\n",
              "  "
            ]
          },
          "metadata": {},
          "execution_count": 10
        }
      ],
      "source": [
        "submission_df = pd.read_csv('../content/drive/MyDrive/Kaggle/steel_data/sample_submission.csv')\n",
        "print(submission_df.shape)\n",
        "submission_df.head()"
      ]
    },
    {
      "cell_type": "code",
      "execution_count": null,
      "metadata": {
        "colab": {
          "background_save": true,
          "base_uri": "https://localhost:8080/"
        },
        "id": "H98Z1q_aJCsE",
        "outputId": "da7cd555-18f8-4caa-8558-c0287e730170"
      },
      "outputs": [
        {
          "name": "stdout",
          "output_type": "stream",
          "text": [
            "\u001b[K     |████████████████████████████████| 642 kB 5.6 MB/s \n",
            "\u001b[K     |████████████████████████████████| 840 kB 37.2 MB/s \n",
            "\u001b[K     |████████████████████████████████| 10.9 MB 34.9 MB/s \n",
            "\u001b[K     |████████████████████████████████| 3.4 MB 32.6 MB/s \n",
            "\u001b[K     |████████████████████████████████| 78 kB 4.1 MB/s \n",
            "\u001b[K     |████████████████████████████████| 1.3 MB 43.1 MB/s \n",
            "\u001b[K     |████████████████████████████████| 60.2 MB 26 kB/s \n",
            "\u001b[K     |████████████████████████████████| 87 kB 6.0 MB/s \n",
            "\u001b[K     |████████████████████████████████| 1.1 MB 42.0 MB/s \n",
            "\u001b[K     |████████████████████████████████| 238 kB 59.4 MB/s \n",
            "\u001b[K     |████████████████████████████████| 128 kB 55.9 MB/s \n",
            "\u001b[K     |████████████████████████████████| 25.3 MB 1.6 MB/s \n",
            "\u001b[K     |████████████████████████████████| 99 kB 8.1 MB/s \n",
            "\u001b[K     |████████████████████████████████| 352 kB 51.0 MB/s \n",
            "\u001b[K     |████████████████████████████████| 40 kB 4.8 MB/s \n",
            "\u001b[K     |████████████████████████████████| 77 kB 6.0 MB/s \n",
            "\u001b[K     |████████████████████████████████| 60.2 MB 1.3 MB/s \n",
            "\u001b[K     |████████████████████████████████| 60.2 MB 1.3 MB/s \n",
            "\u001b[K     |████████████████████████████████| 60.1 MB 118 kB/s \n",
            "\u001b[K     |████████████████████████████████| 60.1 MB 154 kB/s \n",
            "\u001b[K     |████████████████████████████████| 60.1 MB 178 kB/s \n",
            "\u001b[K     |████████████████████████████████| 60.2 MB 50 kB/s \n",
            "\u001b[K     |████████████████████████████████| 55.3 MB 91 bytes/s \n",
            "\u001b[K     |████████████████████████████████| 55.3 MB 1.5 MB/s \n",
            "\u001b[K     |████████████████████████████████| 55.3 MB 41.4 MB/s \n",
            "\u001b[K     |████████████████████████████████| 55.1 MB 46 kB/s \n",
            "\u001b[K     |████████████████████████████████| 55.1 MB 1.5 MB/s \n",
            "\u001b[K     |████████████████████████████████| 50 kB 5.9 MB/s \n",
            "\u001b[K     |████████████████████████████████| 51 kB 5.8 MB/s \n",
            "\u001b[K     |████████████████████████████████| 50 kB 5.7 MB/s \n",
            "\u001b[K     |████████████████████████████████| 48 kB 4.4 MB/s \n",
            "\u001b[K     |████████████████████████████████| 48 kB 4.7 MB/s \n",
            "\u001b[K     |████████████████████████████████| 48 kB 4.4 MB/s \n",
            "\u001b[K     |████████████████████████████████| 129 kB 51.7 MB/s \n",
            "\u001b[K     |████████████████████████████████| 127 kB 50.4 MB/s \n",
            "\u001b[K     |████████████████████████████████| 127 kB 46.1 MB/s \n",
            "\u001b[K     |████████████████████████████████| 48 kB 3.5 MB/s \n",
            "\u001b[K     |████████████████████████████████| 48 kB 4.4 MB/s \n",
            "\u001b[K     |████████████████████████████████| 48 kB 4.1 MB/s \n",
            "\u001b[K     |████████████████████████████████| 48 kB 4.3 MB/s \n",
            "\u001b[K     |████████████████████████████████| 47 kB 3.9 MB/s \n",
            "\u001b[K     |████████████████████████████████| 47 kB 4.1 MB/s \n",
            "\u001b[K     |████████████████████████████████| 47 kB 4.0 MB/s \n",
            "\u001b[K     |████████████████████████████████| 47 kB 3.4 MB/s \n",
            "\u001b[K     |████████████████████████████████| 47 kB 3.7 MB/s \n",
            "\u001b[K     |████████████████████████████████| 44 kB 2.4 MB/s \n",
            "\u001b[K     |████████████████████████████████| 44 kB 1.9 MB/s \n",
            "\u001b[K     |████████████████████████████████| 43 kB 1.7 MB/s \n",
            "\u001b[K     |████████████████████████████████| 78 kB 6.1 MB/s \n",
            "\u001b[K     |████████████████████████████████| 77 kB 5.6 MB/s \n",
            "\u001b[K     |████████████████████████████████| 235 kB 44.7 MB/s \n",
            "\u001b[K     |████████████████████████████████| 235 kB 53.9 MB/s \n",
            "\u001b[K     |████████████████████████████████| 235 kB 49.2 MB/s \n",
            "\u001b[K     |████████████████████████████████| 241 kB 40.0 MB/s \n",
            "\u001b[K     |████████████████████████████████| 239 kB 48.3 MB/s \n",
            "\u001b[K     |████████████████████████████████| 238 kB 50.5 MB/s \n",
            "\u001b[K     |████████████████████████████████| 212 kB 43.9 MB/s \n",
            "\u001b[K     |████████████████████████████████| 237 kB 48.3 MB/s \n",
            "\u001b[K     |████████████████████████████████| 235 kB 48.7 MB/s \n",
            "\u001b[K     |████████████████████████████████| 228 kB 46.0 MB/s \n",
            "\u001b[K     |████████████████████████████████| 228 kB 42.4 MB/s \n",
            "\u001b[K     |████████████████████████████████| 204 kB 49.4 MB/s \n",
            "\u001b[K     |████████████████████████████████| 206 kB 49.1 MB/s \n",
            "\u001b[K     |████████████████████████████████| 201 kB 47.0 MB/s \n",
            "\u001b[K     |████████████████████████████████| 200 kB 47.5 MB/s \n",
            "\u001b[K     |████████████████████████████████| 200 kB 46.2 MB/s \n",
            "\u001b[K     |████████████████████████████████| 200 kB 41.8 MB/s \n",
            "\u001b[K     |████████████████████████████████| 195 kB 43.1 MB/s \n",
            "\u001b[33mWARNING: Discarding https://files.pythonhosted.org/packages/34/3d/cfd8ad26e76a6e15f5b01ae2eb680470d949f50bdb65146edaafb414fdf4/python-slugify-0.0.4.tar.gz#sha256=31a972486b9d39194bea9c67f1311a37ac9f58f05ac21604b189293426050b74 (from https://pypi.org/simple/python-slugify/). Command errored out with exit status 1: python setup.py egg_info Check the logs for full command output.\u001b[0m\n",
            "\u001b[33mWARNING: Discarding https://files.pythonhosted.org/packages/25/a7/ed24b46ae9ae16d67efc6ad14f86bfcb3a02f7df609da055729528ed45c6/python-slugify-0.0.3.tar.gz#sha256=fe4c2f52c2c881e3bfeb085f4eabeecea60672612b492d5ff18a2df7ae1508e7 (from https://pypi.org/simple/python-slugify/). Command errored out with exit status 1: python setup.py egg_info Check the logs for full command output.\u001b[0m\n",
            "\u001b[33mWARNING: Discarding https://files.pythonhosted.org/packages/1b/4f/423a44a5c00ef9e1a34ef0463a8da14d586bd6cdc60a4f5d39c85f7ae6f5/python-slugify-0.0.2.tar.gz#sha256=3ed633fe2d2683b2747ce1224ea91bab49f509c57886c3a9a5dcd33e0d7de171 (from https://pypi.org/simple/python-slugify/). Command errored out with exit status 1: python setup.py egg_info Check the logs for full command output.\u001b[0m\n",
            "\u001b[33mWARNING: Discarding https://files.pythonhosted.org/packages/79/aa/4d37e9751789507852b0b97c45563efaaa973ff2dbeffef98e12ef6f03fa/python-slugify-0.0.1.tar.gz#sha256=3169a3f22e8cbdb4891287b827a9c052f77c5cb92e6d9521415220a7696c2220 (from https://pypi.org/simple/python-slugify/). Command errored out with exit status 1: python setup.py egg_info Check the logs for full command output.\u001b[0m\n",
            "\u001b[K     |████████████████████████████████| 118 kB 45.4 MB/s \n",
            "\u001b[K     |████████████████████████████████| 112 kB 5.0 MB/s \n",
            "\u001b[K     |████████████████████████████████| 158 kB 5.3 MB/s \n",
            "\u001b[K     |████████████████████████████████| 245 kB 4.8 MB/s \n",
            "\u001b[K     |████████████████████████████████| 231 kB 5.1 MB/s \n",
            "\u001b[K     |████████████████████████████████| 230 kB 5.4 MB/s \n",
            "\u001b[K     |████████████████████████████████| 232 kB 5.0 MB/s \n",
            "\u001b[K     |████████████████████████████████| 223 kB 5.1 MB/s \n",
            "\u001b[K     |████████████████████████████████| 299 kB 5.0 MB/s \n",
            "\u001b[K     |████████████████████████████████| 297 kB 4.7 MB/s \n",
            "\u001b[K     |████████████████████████████████| 297 kB 5.1 MB/s \n",
            "\u001b[K     |████████████████████████████████| 206 kB 5.1 MB/s \n",
            "\u001b[K     |████████████████████████████████| 201 kB 5.1 MB/s \n"
          ]
        }
      ],
      "source": [
        "!pip install -q tflite-model-maker\n",
        "!pip install -q tflite-support"
      ]
    },
    {
      "cell_type": "code",
      "execution_count": null,
      "metadata": {
        "id": "LqBLHePMMxD6"
      },
      "outputs": [],
      "source": [
        "!pip install \"opencv-python-headless<4.3\""
      ]
    },
    {
      "cell_type": "code",
      "execution_count": null,
      "metadata": {
        "id": "nTciTzo3ISut",
        "colab": {
          "base_uri": "https://localhost:8080/"
        },
        "outputId": "b50eb621-6c3a-4a5d-a472-00a7e4a32d77"
      },
      "outputs": [
        {
          "output_type": "execute_result",
          "data": {
            "text/plain": [
              "ImageId\n",
              "0934b8bff.jpg    [(1, 76867 68 77121 172 77375 177 77630 181 77...\n",
              "5994c3b58.jpg    [(1, 111018 23 111251 46 111507 46 111763 46 1...\n",
              "ec52fac2d.jpg    [(3, 234878 5 235133 16 235388 22 235563 16 23...\n",
              "648e67d1b.jpg    [(2, 199072 54 199222 159 199425 211 199681 21...\n",
              "d245c4e7f.jpg    [(1, 70355 3 70606 9 70858 15 71109 21 71361 2...\n",
              "                                       ...                        \n",
              "e8226144f.jpg    [(3, 224469 43 224640 128 224812 212 225025 25...\n",
              "a4334d7da.jpg    [(3, 211876 9 212124 25 212372 41 212620 58 21...\n",
              "ea6227174.jpg    [(3, 19969 30 20225 88 20481 117 20737 117 209...\n",
              "8bd35f020.jpg    [(3, 373729 32 373921 96 374114 159 374306 223...\n",
              "28adb8aeb.jpg    [(1, 243128 4 243379 11 243630 19 243882 25 24...\n",
              "Name: ClassId_EncodedPixels, Length: 3333, dtype: object"
            ]
          },
          "metadata": {},
          "execution_count": 11
        }
      ],
      "source": [
        "val_size = 0.50\n",
        "train_df['ClassId_EncodedPixels'] = train_df.apply(lambda row: (row['ClassId'], row['EncodedPixels']), axis = 1)\n",
        "\n",
        "grouped_EncodedPixels = train_df.groupby('ImageId')['ClassId_EncodedPixels'].apply(list)\n",
        "X_train, X_test = train_test_split(grouped_EncodedPixels, test_size=val_size, random_state=42)\n",
        "X_test"
      ]
    },
    {
      "cell_type": "code",
      "execution_count": null,
      "metadata": {
        "id": "tAcW1jHCNyyv",
        "colab": {
          "base_uri": "https://localhost:8080/"
        },
        "outputId": "c883426f-f646-421e-83c8-691b48dfa22b"
      },
      "outputs": [
        {
          "output_type": "stream",
          "name": "stderr",
          "text": [
            "3333it [12:37,  4.40it/s]\n"
          ]
        }
      ],
      "source": [
        "l1=[]\n",
        "l2=[]\n",
        "\n",
        "for img,grouped_EncodedPixels in tqdm(X_train.items()):\n",
        "  classId=grouped_EncodedPixels[0][0]\n",
        "  image=cv2.imread(\"/content/drive/MyDrive/Kaggle/steel_data/train_images/{}\".format(img),cv2.IMREAD_COLOR)\n",
        "  image=cv2.resize(image,(160,25))\n",
        "  l1.append(image)\n",
        "  l2.append(classId)"
      ]
    },
    {
      "cell_type": "code",
      "execution_count": null,
      "metadata": {
        "id": "sBpgFaGkbVEY",
        "colab": {
          "base_uri": "https://localhost:8080/",
          "height": 1000
        },
        "outputId": "4312f89d-8335-47d1-ce5a-0985f52bc41d"
      },
      "outputs": [
        {
          "output_type": "stream",
          "name": "stdout",
          "text": [
            "[[[95 95 95]\n",
            "  [91 91 91]\n",
            "  [86 86 86]\n",
            "  ...\n",
            "  [64 64 64]\n",
            "  [61 61 61]\n",
            "  [63 63 63]]\n",
            "\n",
            " [[90 90 90]\n",
            "  [96 96 96]\n",
            "  [80 80 80]\n",
            "  ...\n",
            "  [69 69 69]\n",
            "  [63 63 63]\n",
            "  [69 69 69]]\n",
            "\n",
            " [[99 99 99]\n",
            "  [94 94 94]\n",
            "  [87 87 87]\n",
            "  ...\n",
            "  [75 75 75]\n",
            "  [68 68 68]\n",
            "  [69 69 69]]\n",
            "\n",
            " ...\n",
            "\n",
            " [[88 88 88]\n",
            "  [85 85 85]\n",
            "  [86 86 86]\n",
            "  ...\n",
            "  [78 78 78]\n",
            "  [78 78 78]\n",
            "  [83 83 83]]\n",
            "\n",
            " [[98 98 98]\n",
            "  [83 83 83]\n",
            "  [79 79 79]\n",
            "  ...\n",
            "  [74 74 74]\n",
            "  [75 75 75]\n",
            "  [80 80 80]]\n",
            "\n",
            " [[86 86 86]\n",
            "  [83 83 83]\n",
            "  [90 90 90]\n",
            "  ...\n",
            "  [81 81 81]\n",
            "  [76 76 76]\n",
            "  [83 83 83]]]\n"
          ]
        },
        {
          "output_type": "execute_result",
          "data": {
            "text/plain": [
              "<matplotlib.image.AxesImage at 0x7f425a3d7810>"
            ]
          },
          "metadata": {},
          "execution_count": 13
        },
        {
          "output_type": "display_data",
          "data": {
            "text/plain": [
              "<Figure size 432x288 with 1 Axes>"
            ],
            "image/png": "[encoded data removed]"
          },
          "metadata": {
            "needs_background": "light"
          }
        }
      ],
      "source": [
        "print(l1[1])\n",
        "i = 15\n",
        "plt.imshow(l1[i])"
      ]
    },
    {
      "cell_type": "code",
      "execution_count": null,
      "metadata": {
        "id": "tVzQuOyrbbAH",
        "colab": {
          "base_uri": "https://localhost:8080/",
          "height": 121
        },
        "outputId": "0a7493a4-07d2-4d76-d694-ac435d345cbf"
      },
      "outputs": [
        {
          "output_type": "execute_result",
          "data": {
            "text/plain": [
              "<matplotlib.image.AxesImage at 0x7f4259f30210>"
            ]
          },
          "metadata": {},
          "execution_count": 14
        },
        {
          "output_type": "display_data",
          "data": {
            "text/plain": [
              "<Figure size 432x288 with 1 Axes>"
            ],
            "image/png": "[encoded data removed]"
          },
          "metadata": {
            "needs_background": "light"
          }
        }
      ],
      "source": [
        "i = 16\n",
        "plt.imshow(l1[i])"
      ]
    },
    {
      "cell_type": "code",
      "execution_count": null,
      "metadata": {
        "id": "K3eOSr6t_lo-"
      },
      "outputs": [],
      "source": [
        "model=Sequential()\n",
        "\n",
        "model = keras.Sequential([\n",
        "    keras.layers.Flatten(input_shape=(25,160,3)),\n",
        "    keras.layers.Dense(10, activation='relu'),\n",
        "    keras.layers.Dense(10, activation='softmax')\n",
        "])"
      ]
    },
    {
      "cell_type": "code",
      "execution_count": null,
      "metadata": {
        "id": "hoMwyRcrD-FO"
      },
      "outputs": [],
      "source": [
        "model.compile(optimizer='adam',\n",
        "              loss='sparse_categorical_crossentropy',\n",
        "              metrics=['accuracy'])"
      ]
    },
    {
      "cell_type": "code",
      "execution_count": null,
      "metadata": {
        "id": "2HkL0SWzESzv",
        "colab": {
          "base_uri": "https://localhost:8080/"
        },
        "outputId": "680d1c98-ef4a-4828-ed72-54829603892c"
      },
      "outputs": [
        {
          "output_type": "stream",
          "name": "stdout",
          "text": [
            "Epoch 1/2\n",
            "53/53 - 1s - loss: 93.0416 - accuracy: 0.3537 - 936ms/epoch - 18ms/step\n",
            "Epoch 2/2\n",
            "53/53 - 0s - loss: 2.2349 - accuracy: 0.6649 - 322ms/epoch - 6ms/step\n"
          ]
        },
        {
          "output_type": "execute_result",
          "data": {
            "text/plain": [
              "<keras.callbacks.History at 0x7f425607f490>"
            ]
          },
          "metadata": {},
          "execution_count": 24
        }
      ],
      "source": [
        "y_train=np.array(l1)\n",
        "y_test=np.array(l2)\n",
        "\n",
        "model.fit(y_train,y_test,batch_size=64,verbose=2,epochs=2)"
      ]
    },
    {
      "cell_type": "code",
      "execution_count": null,
      "metadata": {
        "id": "SzPwcAglG4fq",
        "colab": {
          "base_uri": "https://localhost:8080/"
        },
        "outputId": "f54fa4f3-7080-4ceb-ed0e-89c2cf68dea5"
      },
      "outputs": [
        {
          "output_type": "stream",
          "name": "stdout",
          "text": [
            "105/105 [==============================] - 0s 3ms/step - loss: 2.1966 - accuracy: 0.7540\n"
          ]
        }
      ],
      "source": [
        "y_train , y_test = model.evaluate(y_train , y_test)"
      ]
    },
    {
      "cell_type": "code",
      "execution_count": null,
      "metadata": {
        "id": "SWbFPoDJRe5Z",
        "colab": {
          "base_uri": "https://localhost:8080/"
        },
        "outputId": "a7f7319e-7170-4973-a8f1-951064d7019d"
      },
      "outputs": [
        {
          "output_type": "stream",
          "name": "stderr",
          "text": [
            "3333it [11:27,  4.85it/s]\n"
          ]
        }
      ],
      "source": [
        "h1=[]\n",
        "h2=[]\n",
        "\n",
        "for img,grouped_EncodedPixels in tqdm(X_test.items()):\n",
        "  classId=grouped_EncodedPixels[0][0]\n",
        "  image=cv2.imread(\"/content/drive/MyDrive/Kaggle/steel_data/train_images/{}\".format(img),cv2.IMREAD_COLOR)\n",
        "  image=cv2.resize(image,(160,25))\n",
        "  h1.append(image)\n",
        "  h2.append(classId)"
      ]
    },
    {
      "cell_type": "code",
      "execution_count": null,
      "metadata": {
        "id": "0Oz9NOT_fJHo",
        "colab": {
          "base_uri": "https://localhost:8080/",
          "height": 121
        },
        "outputId": "450541eb-8fec-4831-812c-99dedfabe108"
      },
      "outputs": [
        {
          "output_type": "execute_result",
          "data": {
            "text/plain": [
              "(25, 160, 3)"
            ]
          },
          "metadata": {},
          "execution_count": 19
        },
        {
          "output_type": "display_data",
          "data": {
            "text/plain": [
              "<Figure size 432x288 with 1 Axes>"
            ],
            "image/png": "[encoded data removed]"
          },
          "metadata": {
            "needs_background": "light"
          }
        }
      ],
      "source": [
        "i = 199\n",
        "plt.imshow(h1[i])\n",
        "h1[1].shape"
      ]
    },
    {
      "cell_type": "code",
      "execution_count": null,
      "metadata": {
        "id": "Zr_mIIqNa7bK",
        "colab": {
          "base_uri": "https://localhost:8080/"
        },
        "outputId": "18ff2477-03ba-40b6-d511-5445b1adae11"
      },
      "outputs": [
        {
          "output_type": "stream",
          "name": "stdout",
          "text": [
            "Model: \"sequential_1\"\n",
            "_________________________________________________________________\n",
            " Layer (type)                Output Shape              Param #   \n",
            "=================================================================\n",
            " flatten (Flatten)           (None, 12000)             0         \n",
            "                                                                 \n",
            " dense (Dense)               (None, 10)                120010    \n",
            "                                                                 \n",
            " dense_1 (Dense)             (None, 10)                110       \n",
            "                                                                 \n",
            "=================================================================\n",
            "Total params: 120,120\n",
            "Trainable params: 120,120\n",
            "Non-trainable params: 0\n",
            "_________________________________________________________________\n"
          ]
        }
      ],
      "source": [
        "model.summary()"
      ]
    },
    {
      "cell_type": "code",
      "execution_count": null,
      "metadata": {
        "id": "HZVNJGs-eiW3",
        "colab": {
          "base_uri": "https://localhost:8080/",
          "height": 743
        },
        "outputId": "b3ae6da3-eace-4804-dd8e-e9138b3822c7"
      },
      "outputs": [
        {
          "output_type": "error",
          "ename": "ValueError",
          "evalue": "ignored",
          "traceback": [
            "\u001b[0;31m---------------------------------------------------------------------------\u001b[0m",
            "\u001b[0;31mValueError\u001b[0m                                Traceback (most recent call last)",
            "\u001b[0;32m<ipython-input-21-b1b53969cfcf>\u001b[0m in \u001b[0;36m<module>\u001b[0;34m\u001b[0m\n\u001b[0;32m----> 1\u001b[0;31m \u001b[0mmodel\u001b[0m\u001b[0;34m.\u001b[0m\u001b[0mpredict\u001b[0m\u001b[0;34m(\u001b[0m\u001b[0mh1\u001b[0m\u001b[0;34m[\u001b[0m\u001b[0;36m1\u001b[0m\u001b[0;34m]\u001b[0m\u001b[0;34m)\u001b[0m\u001b[0;34m\u001b[0m\u001b[0;34m\u001b[0m\u001b[0m\n\u001b[0m",
            "\u001b[0;32m/usr/local/lib/python3.7/dist-packages/keras/utils/traceback_utils.py\u001b[0m in \u001b[0;36merror_handler\u001b[0;34m(*args, **kwargs)\u001b[0m\n\u001b[1;32m     65\u001b[0m     \u001b[0;32mexcept\u001b[0m \u001b[0mException\u001b[0m \u001b[0;32mas\u001b[0m \u001b[0me\u001b[0m\u001b[0;34m:\u001b[0m  \u001b[0;31m# pylint: disable=broad-except\u001b[0m\u001b[0;34m\u001b[0m\u001b[0;34m\u001b[0m\u001b[0m\n\u001b[1;32m     66\u001b[0m       \u001b[0mfiltered_tb\u001b[0m \u001b[0;34m=\u001b[0m \u001b[0m_process_traceback_frames\u001b[0m\u001b[0;34m(\u001b[0m\u001b[0me\u001b[0m\u001b[0;34m.\u001b[0m\u001b[0m__traceback__\u001b[0m\u001b[0;34m)\u001b[0m\u001b[0;34m\u001b[0m\u001b[0;34m\u001b[0m\u001b[0m\n\u001b[0;32m---> 67\u001b[0;31m       \u001b[0;32mraise\u001b[0m \u001b[0me\u001b[0m\u001b[0;34m.\u001b[0m\u001b[0mwith_traceback\u001b[0m\u001b[0;34m(\u001b[0m\u001b[0mfiltered_tb\u001b[0m\u001b[0;34m)\u001b[0m \u001b[0;32mfrom\u001b[0m \u001b[0;32mNone\u001b[0m\u001b[0;34m\u001b[0m\u001b[0;34m\u001b[0m\u001b[0m\n\u001b[0m\u001b[1;32m     68\u001b[0m     \u001b[0;32mfinally\u001b[0m\u001b[0;34m:\u001b[0m\u001b[0;34m\u001b[0m\u001b[0;34m\u001b[0m\u001b[0m\n\u001b[1;32m     69\u001b[0m       \u001b[0;32mdel\u001b[0m \u001b[0mfiltered_tb\u001b[0m\u001b[0;34m\u001b[0m\u001b[0;34m\u001b[0m\u001b[0m\n",
            "\u001b[0;32m/usr/local/lib/python3.7/dist-packages/tensorflow/python/framework/func_graph.py\u001b[0m in \u001b[0;36mautograph_handler\u001b[0;34m(*args, **kwargs)\u001b[0m\n\u001b[1;32m   1145\u001b[0m           \u001b[0;32mexcept\u001b[0m \u001b[0mException\u001b[0m \u001b[0;32mas\u001b[0m \u001b[0me\u001b[0m\u001b[0;34m:\u001b[0m  \u001b[0;31m# pylint:disable=broad-except\u001b[0m\u001b[0;34m\u001b[0m\u001b[0;34m\u001b[0m\u001b[0m\n\u001b[1;32m   1146\u001b[0m             \u001b[0;32mif\u001b[0m \u001b[0mhasattr\u001b[0m\u001b[0;34m(\u001b[0m\u001b[0me\u001b[0m\u001b[0;34m,\u001b[0m \u001b[0;34m\"ag_error_metadata\"\u001b[0m\u001b[0;34m)\u001b[0m\u001b[0;34m:\u001b[0m\u001b[0;34m\u001b[0m\u001b[0;34m\u001b[0m\u001b[0m\n\u001b[0;32m-> 1147\u001b[0;31m               \u001b[0;32mraise\u001b[0m \u001b[0me\u001b[0m\u001b[0;34m.\u001b[0m\u001b[0mag_error_metadata\u001b[0m\u001b[0;34m.\u001b[0m\u001b[0mto_exception\u001b[0m\u001b[0;34m(\u001b[0m\u001b[0me\u001b[0m\u001b[0;34m)\u001b[0m\u001b[0;34m\u001b[0m\u001b[0;34m\u001b[0m\u001b[0m\n\u001b[0m\u001b[1;32m   1148\u001b[0m             \u001b[0;32melse\u001b[0m\u001b[0;34m:\u001b[0m\u001b[0;34m\u001b[0m\u001b[0;34m\u001b[0m\u001b[0m\n\u001b[1;32m   1149\u001b[0m               \u001b[0;32mraise\u001b[0m\u001b[0;34m\u001b[0m\u001b[0;34m\u001b[0m\u001b[0m\n",
            "\u001b[0;31mValueError\u001b[0m: in user code:\n\n    File \"/usr/local/lib/python3.7/dist-packages/keras/engine/training.py\", line 1801, in predict_function  *\n        return step_function(self, iterator)\n    File \"/usr/local/lib/python3.7/dist-packages/keras/engine/training.py\", line 1790, in step_function  **\n        outputs = model.distribute_strategy.run(run_step, args=(data,))\n    File \"/usr/local/lib/python3.7/dist-packages/keras/engine/training.py\", line 1783, in run_step  **\n        outputs = model.predict_step(data)\n    File \"/usr/local/lib/python3.7/dist-packages/keras/engine/training.py\", line 1751, in predict_step\n        return self(x, training=False)\n    File \"/usr/local/lib/python3.7/dist-packages/keras/utils/traceback_utils.py\", line 67, in error_handler\n        raise e.with_traceback(filtered_tb) from None\n    File \"/usr/local/lib/python3.7/dist-packages/keras/engine/input_spec.py\", line 264, in assert_input_compatibility\n        raise ValueError(f'Input {input_index} of layer \"{layer_name}\" is '\n\n    ValueError: Input 0 of layer \"sequential_1\" is incompatible with the layer: expected shape=(None, 25, 160, 3), found shape=(None, 160, 3)\n"
          ]
        }
      ],
      "source": [
        "model.predict(h1[1])"
      ]
    }
  ],
  "metadata": {
    "colab": {
      "provenance": []
    },
    "gpuClass": "standard",
    "kernelspec": {
      "display_name": "Python 3",
      "name": "python3"
    },
    "language_info": {
      "name": "python"
    }
  },
  "nbformat": 4,
  "nbformat_minor": 0
}